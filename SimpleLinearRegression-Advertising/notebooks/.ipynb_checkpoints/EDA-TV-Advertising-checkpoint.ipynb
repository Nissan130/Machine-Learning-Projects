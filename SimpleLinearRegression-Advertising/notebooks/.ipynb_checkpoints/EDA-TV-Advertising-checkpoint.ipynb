{
 "cells": [
  {
   "cell_type": "markdown",
   "id": "acc8681f-9f9a-4a29-9934-ebab4155583b",
   "metadata": {},
   "source": [
    "# import libraries"
   ]
  },
  {
   "cell_type": "code",
   "execution_count": 19,
   "id": "edd3b778-8841-49ee-8c09-d52c406c00f9",
   "metadata": {},
   "outputs": [],
   "source": [
    "# import libraries\n",
    "import pandas as pd\n",
    "import matplotlib.pyplot as plt\n",
    "import seaborn as sns\n",
    "from sklearn.model_selection import train_test_split\n",
    "from sklearn.linear_model import LinearRegression"
   ]
  },
  {
   "cell_type": "markdown",
   "id": "b2c9344b-7f37-40d3-87c9-acbd7ed00192",
   "metadata": {},
   "source": [
    "# load dataset"
   ]
  },
  {
   "cell_type": "code",
   "execution_count": 6,
   "id": "658e5373-90c7-46e4-bd6b-eac14bc00521",
   "metadata": {},
   "outputs": [
    {
     "data": {
      "text/html": [
       "<div>\n",
       "<style scoped>\n",
       "    .dataframe tbody tr th:only-of-type {\n",
       "        vertical-align: middle;\n",
       "    }\n",
       "\n",
       "    .dataframe tbody tr th {\n",
       "        vertical-align: top;\n",
       "    }\n",
       "\n",
       "    .dataframe thead th {\n",
       "        text-align: right;\n",
       "    }\n",
       "</style>\n",
       "<table border=\"1\" class=\"dataframe\">\n",
       "  <thead>\n",
       "    <tr style=\"text-align: right;\">\n",
       "      <th></th>\n",
       "      <th>Unnamed: 0</th>\n",
       "      <th>TV</th>\n",
       "      <th>radio</th>\n",
       "      <th>newspaper</th>\n",
       "      <th>sales</th>\n",
       "    </tr>\n",
       "  </thead>\n",
       "  <tbody>\n",
       "    <tr>\n",
       "      <th>0</th>\n",
       "      <td>1</td>\n",
       "      <td>230.1</td>\n",
       "      <td>37.8</td>\n",
       "      <td>69.2</td>\n",
       "      <td>22.1</td>\n",
       "    </tr>\n",
       "    <tr>\n",
       "      <th>1</th>\n",
       "      <td>2</td>\n",
       "      <td>44.5</td>\n",
       "      <td>39.3</td>\n",
       "      <td>45.1</td>\n",
       "      <td>10.4</td>\n",
       "    </tr>\n",
       "    <tr>\n",
       "      <th>2</th>\n",
       "      <td>3</td>\n",
       "      <td>17.2</td>\n",
       "      <td>45.9</td>\n",
       "      <td>69.3</td>\n",
       "      <td>9.3</td>\n",
       "    </tr>\n",
       "    <tr>\n",
       "      <th>3</th>\n",
       "      <td>4</td>\n",
       "      <td>151.5</td>\n",
       "      <td>41.3</td>\n",
       "      <td>58.5</td>\n",
       "      <td>18.5</td>\n",
       "    </tr>\n",
       "    <tr>\n",
       "      <th>4</th>\n",
       "      <td>5</td>\n",
       "      <td>180.8</td>\n",
       "      <td>10.8</td>\n",
       "      <td>58.4</td>\n",
       "      <td>12.9</td>\n",
       "    </tr>\n",
       "  </tbody>\n",
       "</table>\n",
       "</div>"
      ],
      "text/plain": [
       "   Unnamed: 0     TV  radio  newspaper  sales\n",
       "0           1  230.1   37.8       69.2   22.1\n",
       "1           2   44.5   39.3       45.1   10.4\n",
       "2           3   17.2   45.9       69.3    9.3\n",
       "3           4  151.5   41.3       58.5   18.5\n",
       "4           5  180.8   10.8       58.4   12.9"
      ]
     },
     "execution_count": 6,
     "metadata": {},
     "output_type": "execute_result"
    }
   ],
   "source": [
    "# load dataset directly from github\n",
    "url = \"https://raw.githubusercontent.com/selva86/datasets/master/Advertising.csv\"\n",
    "df = pd.read_csv(url)\n",
    "\n",
    "#display first five rows\n",
    "df.head()"
   ]
  },
  {
   "cell_type": "code",
   "execution_count": 7,
   "id": "62fa13e6-d7bd-4835-8c85-d8a7fff7dbcc",
   "metadata": {},
   "outputs": [
    {
     "name": "stdout",
     "output_type": "stream",
     "text": [
      "<class 'pandas.core.frame.DataFrame'>\n",
      "RangeIndex: 200 entries, 0 to 199\n",
      "Data columns (total 5 columns):\n",
      " #   Column      Non-Null Count  Dtype  \n",
      "---  ------      --------------  -----  \n",
      " 0   Unnamed: 0  200 non-null    int64  \n",
      " 1   TV          200 non-null    float64\n",
      " 2   radio       200 non-null    float64\n",
      " 3   newspaper   200 non-null    float64\n",
      " 4   sales       200 non-null    float64\n",
      "dtypes: float64(4), int64(1)\n",
      "memory usage: 7.9 KB\n"
     ]
    }
   ],
   "source": [
    "df.info()"
   ]
  },
  {
   "cell_type": "markdown",
   "id": "66e94452-eb1f-48c3-992b-e05c7d7a7cb0",
   "metadata": {},
   "source": [
    "### There is no null value present in the dataset"
   ]
  },
  {
   "cell_type": "markdown",
   "id": "03e1f5df-cd2d-40e5-977e-59b398d05659",
   "metadata": {},
   "source": [
    "# Select features (X and y)"
   ]
  },
  {
   "cell_type": "code",
   "execution_count": 21,
   "id": "064d5fe2-08ec-4843-b8cc-9faa1fdbbd35",
   "metadata": {},
   "outputs": [
    {
     "name": "stdout",
     "output_type": "stream",
     "text": [
      "      TV\n",
      "0  230.1\n",
      "1   44.5\n",
      "2   17.2\n",
      "3  151.5\n",
      "4  180.8\n",
      "0    22.1\n",
      "1    10.4\n",
      "2     9.3\n",
      "3    18.5\n",
      "4    12.9\n",
      "Name: sales, dtype: float64\n"
     ]
    }
   ],
   "source": [
    "# For simple linear regression, we select only TV and sales\n",
    "\n",
    "X = df[['TV']] # independent variable\n",
    "y = df['sales'] # dependent variable\n",
    "\n",
    "print(X.head())\n",
    "print(y.head())"
   ]
  },
  {
   "cell_type": "code",
   "execution_count": 42,
   "id": "5bbfde5e-7328-4400-a207-547baeff3942",
   "metadata": {},
   "outputs": [
    {
     "data": {
      "image/png": "[encoded data removed]",
      "text/plain": [
       "<Figure size 800x400 with 1 Axes>"
      ]
     },
     "metadata": {},
     "output_type": "display_data"
    }
   ],
   "source": [
    "# check the relationship between sales and TV\n",
    "plt.figure(figsize=(8,4))\n",
    "sns.scatterplot(data=df, x = df['TV'], y=df['sales'])\n",
    "\n",
    "#save figure\n",
    "plt.savefig('../results/tv_sales_rel.png', dpi=300, bbox_inches='tight')\n",
    "\n",
    "plt.show()\n"
   ]
  },
  {
   "cell_type": "markdown",
   "id": "d73515af-d808-4060-b3a0-61ed01bf3454",
   "metadata": {},
   "source": [
    "### we can see that there is a linear relationship between TV and sales"
   ]
  },
  {
   "cell_type": "markdown",
   "id": "6098676e-334e-4a16-8101-4054cca01605",
   "metadata": {},
   "source": [
    "# Split Train/Test"
   ]
  },
  {
   "cell_type": "code",
   "execution_count": 28,
   "id": "af68fe8c-ba32-4d7c-aa05-aa11c3965107",
   "metadata": {},
   "outputs": [
    {
     "name": "stdout",
     "output_type": "stream",
     "text": [
      "Train Size:  (160, 1)\n",
      "Test Size:  (40, 1)\n"
     ]
    }
   ],
   "source": [
    "# split the data into training and testing set, split 20% data for testing\n",
    "X_train, X_test, y_train, y_test = train_test_split(X, y, test_size=0.2, random_state=42)\n",
    "\n",
    "print(\"Train Size: \", X_train.shape)\n",
    "print(\"Test Size: \", X_test.shape)"
   ]
  },
  {
   "cell_type": "markdown",
   "id": "f4d6378c-04ef-41e1-891d-bb6bde9c6794",
   "metadata": {},
   "source": [
    "# Train Model"
   ]
  },
  {
   "cell_type": "code",
   "execution_count": 25,
   "id": "6238df43-f2b2-4523-8a4d-c5b2df3e215b",
   "metadata": {},
   "outputs": [
    {
     "name": "stdout",
     "output_type": "stream",
     "text": [
      "Model trained successfully\n"
     ]
    }
   ],
   "source": [
    "# Train Model\n",
    "\n",
    "model = LinearRegression()\n",
    "model.fit(X_train, y_train)\n",
    "\n",
    "print(\"Model trained successfully\")"
   ]
  },
  {
   "cell_type": "code",
   "execution_count": 26,
   "id": "f5e9e746-4f4b-42a5-bc64-a51b0ca3a70a",
   "metadata": {},
   "outputs": [
    {
     "name": "stdout",
     "output_type": "stream",
     "text": [
      "Equation of line: sales = 0.05*TV + 7.12\n"
     ]
    }
   ],
   "source": [
    "# get model parameters\n",
    "\n",
    "m = model.coef_[0]\n",
    "c = model.intercept_\n",
    "\n",
    "print(f'Equation of line: sales = {m:.2f}*TV + {c:.2f}')"
   ]
  },
  {
   "cell_type": "markdown",
   "id": "b17b4d6b-8b04-40f9-99c3-fa5174177411",
   "metadata": {},
   "source": [
    "# prediction on test data"
   ]
  },
  {
   "cell_type": "code",
   "execution_count": 29,
   "id": "0ece3715-ddb1-4dff-b4d2-29da3201d5b2",
   "metadata": {},
   "outputs": [
    {
     "data": {
      "text/html": [
       "<div>\n",
       "<style scoped>\n",
       "    .dataframe tbody tr th:only-of-type {\n",
       "        vertical-align: middle;\n",
       "    }\n",
       "\n",
       "    .dataframe tbody tr th {\n",
       "        vertical-align: top;\n",
       "    }\n",
       "\n",
       "    .dataframe thead th {\n",
       "        text-align: right;\n",
       "    }\n",
       "</style>\n",
       "<table border=\"1\" class=\"dataframe\">\n",
       "  <thead>\n",
       "    <tr style=\"text-align: right;\">\n",
       "      <th></th>\n",
       "      <th>Actual</th>\n",
       "      <th>Predicted</th>\n",
       "    </tr>\n",
       "  </thead>\n",
       "  <tbody>\n",
       "    <tr>\n",
       "      <th>0</th>\n",
       "      <td>16.9</td>\n",
       "      <td>14.717944</td>\n",
       "    </tr>\n",
       "    <tr>\n",
       "      <th>1</th>\n",
       "      <td>22.4</td>\n",
       "      <td>16.211548</td>\n",
       "    </tr>\n",
       "    <tr>\n",
       "      <th>2</th>\n",
       "      <td>21.4</td>\n",
       "      <td>20.748197</td>\n",
       "    </tr>\n",
       "    <tr>\n",
       "      <th>3</th>\n",
       "      <td>7.3</td>\n",
       "      <td>7.664036</td>\n",
       "    </tr>\n",
       "    <tr>\n",
       "      <th>4</th>\n",
       "      <td>24.7</td>\n",
       "      <td>17.370139</td>\n",
       "    </tr>\n",
       "    <tr>\n",
       "      <th>5</th>\n",
       "      <td>12.6</td>\n",
       "      <td>10.614021</td>\n",
       "    </tr>\n",
       "    <tr>\n",
       "      <th>6</th>\n",
       "      <td>22.3</td>\n",
       "      <td>17.207285</td>\n",
       "    </tr>\n",
       "    <tr>\n",
       "      <th>7</th>\n",
       "      <td>8.4</td>\n",
       "      <td>9.446125</td>\n",
       "    </tr>\n",
       "    <tr>\n",
       "      <th>8</th>\n",
       "      <td>11.5</td>\n",
       "      <td>17.467851</td>\n",
       "    </tr>\n",
       "    <tr>\n",
       "      <th>9</th>\n",
       "      <td>14.9</td>\n",
       "      <td>15.266995</td>\n",
       "    </tr>\n",
       "  </tbody>\n",
       "</table>\n",
       "</div>"
      ],
      "text/plain": [
       "   Actual  Predicted\n",
       "0    16.9  14.717944\n",
       "1    22.4  16.211548\n",
       "2    21.4  20.748197\n",
       "3     7.3   7.664036\n",
       "4    24.7  17.370139\n",
       "5    12.6  10.614021\n",
       "6    22.3  17.207285\n",
       "7     8.4   9.446125\n",
       "8    11.5  17.467851\n",
       "9    14.9  15.266995"
      ]
     },
     "execution_count": 29,
     "metadata": {},
     "output_type": "execute_result"
    }
   ],
   "source": [
    "# prediction on test data\n",
    "\n",
    "y_pred = model.predict(X_test)\n",
    "\n",
    "# compare first 10 actual vs predicted\n",
    "comparison = pd.DataFrame({'Actual':y_test.values, 'Predicted': y_pred})\n",
    "comparison.head(10)\n"
   ]
  },
  {
   "cell_type": "code",
   "execution_count": 55,
   "id": "45746ba3-5d9c-4b56-a128-bd04ac149934",
   "metadata": {},
   "outputs": [
    {
     "name": "stderr",
     "output_type": "stream",
     "text": [
      "/var/folders/ng/m4yd93hn3dd0fttqhm_f8prc0000gn/T/ipykernel_4577/816492794.py:4: SettingWithCopyWarning: \n",
      "A value is trying to be set on a copy of a slice from a DataFrame.\n",
      "Try using .loc[row_indexer,col_indexer] = value instead\n",
      "\n",
      "See the caveats in the documentation: https://pandas.pydata.org/pandas-docs/stable/user_guide/indexing.html#returning-a-view-versus-a-copy\n",
      "  comparison_table['Predicted'] = comparison_table['Predicted'].round(2)\n"
     ]
    },
    {
     "data": {
      "image/png": "[encoded data removed]",
      "text/plain": [
       "<Figure size 600x500 with 1 Axes>"
      ]
     },
     "metadata": {},
     "output_type": "display_data"
    }
   ],
   "source": [
    "# save the predicted dataframe as image\n",
    "\n",
    "comparison_table = comparison.head(10)\n",
    "comparison_table['Predicted'] = comparison_table['Predicted'].round(2)\n",
    "#create figure\n",
    "fig, ax = plt.subplots(figsize=(6,5))\n",
    "ax.axis('tight')\n",
    "ax.axis('off')\n",
    "\n",
    "#create table\n",
    "table = ax.table(cellText=comparison_table.values, colLabels = comparison_table.columns, cellLoc='center', loc='center')\n",
    "\n",
    "# save fig\n",
    "plt.savefig('../results/predicted_data.png', dpi=300, bbox_inches='tight')\n",
    "plt.title('Predicted Sales')\n",
    "plt.show()\n"
   ]
  },
  {
   "cell_type": "markdown",
   "id": "701b2b82-dd81-4455-8c11-af0751ccec32",
   "metadata": {},
   "source": [
    "# Evaluate model"
   ]
  },
  {
   "cell_type": "code",
   "execution_count": 31,
   "id": "86c5f8d1-1ba0-441d-a5fd-19a9f53a6c78",
   "metadata": {},
   "outputs": [
    {
     "name": "stdout",
     "output_type": "stream",
     "text": [
      "Mean Absolute Error: 2.444420003751042\n",
      "R2 Score: 0.6766954295627076\n"
     ]
    }
   ],
   "source": [
    "# Evaluate model\n",
    "from sklearn.metrics import mean_absolute_error, r2_score\n",
    "mae = mean_absolute_error(y_test, y_pred)\n",
    "r2 = r2_score(y_test, y_pred)\n",
    "\n",
    "print(\"Mean Absolute Error:\", mae)\n",
    "print(\"R2 Score:\", r2)"
   ]
  },
  {
   "cell_type": "code",
   "execution_count": 32,
   "id": "43b2971f-8a10-4923-9b02-767acf2b15aa",
   "metadata": {},
   "outputs": [
    {
     "data": {
      "image/png": "[encoded data removed]",
      "text/plain": [
       "<Figure size 800x600 with 1 Axes>"
      ]
     },
     "metadata": {},
     "output_type": "display_data"
    }
   ],
   "source": [
    "plt.figure(figsize=(8,6))\n",
    "plt.scatter(X, y, color=\"blue\", label=\"Actual Data\")\n",
    "plt.plot(X, model.predict(X), color=\"red\", linewidth=2, label=\"Regression Line\")\n",
    "plt.xlabel(\"TV Advertising Budget (in $1000)\")\n",
    "plt.ylabel(\"Sales (in $1000)\")\n",
    "plt.title(\"Simple Linear Regression: TV Ads vs Sales\")\n",
    "plt.legend()\n",
    "plt.show()\n"
   ]
  },
  {
   "cell_type": "markdown",
   "id": "2ad37785-0d75-40ce-a185-cbb2d2aa123f",
   "metadata": {},
   "source": [
    "### here we can see that the model is not more accurate, so for getting more better result we have to select other model selection like multiple linear regression"
   ]
  },
  {
   "cell_type": "code",
   "execution_count": null,
   "id": "619d0af8-fec2-4098-8235-d58aa310efc8",
   "metadata": {},
   "outputs": [],
   "source": []
  }
 ],
 "metadata": {
  "kernelspec": {
   "display_name": "Python 3 (ipykernel)",
   "language": "python",
   "name": "python3"
  },
  "language_info": {
   "codemirror_mode": {
    "name": "ipython",
    "version": 3
   },
   "file_extension": ".py",
   "mimetype": "text/x-python",
   "name": "python",
   "nbconvert_exporter": "python",
   "pygments_lexer": "ipython3",
   "version": "3.13.5"
  }
 },
 "nbformat": 4,
 "nbformat_minor": 5
}
